{
 "cells": [
  {
   "cell_type": "code",
   "execution_count": null,
   "id": "fe5ec738",
   "metadata": {},
   "outputs": [],
   "source": [
    "import matplotlib.pyplot as plt\n",
    "import numpy as np\n",
    "\n",
    "test = np.array([\n",
    "    [0, 0, 0, 0, 0],\n",
    "    [0, 1, 1, 1, 0],\n",
    "    [0, 1, 0, 1, 0],\n",
    "    [0, 1, 1, 1, 0],\n",
    "    [0, 0, 0, 0, 0]\n",
    "])\n",
    "\n",
    "plt.imshow(test, cmap=\"gray_r\", interpolation=\"none\")\n",
    "plt.xticks([]); plt.yticks([])\n",
    "plt.show()\n"
   ]
  },
  {
   "cell_type": "code",
   "execution_count": null,
   "id": "f6c1790e",
   "metadata": {},
   "outputs": [],
   "source": [
    "from core.maze_generator import generate_maze\n",
    "from visualizer.grid_plot import plot_maze\n",
    "\n",
    "maze, entry, goal = generate_maze(25, 25)\n",
    "\n",
    "plot_maze(maze, entry, goal)\n",
    "print(\"Entry:\", entry, \"Goal:\", goal)\n"
   ]
  }
 ],
 "metadata": {
  "kernelspec": {
   "display_name": ".venv",
   "language": "python",
   "name": "python3"
  },
  "language_info": {
   "codemirror_mode": {
    "name": "ipython",
    "version": 3
   },
   "file_extension": ".py",
   "mimetype": "text/x-python",
   "name": "python",
   "nbconvert_exporter": "python",
   "pygments_lexer": "ipython3",
   "version": "3.11.0"
  }
 },
 "nbformat": 4,
 "nbformat_minor": 5
}
